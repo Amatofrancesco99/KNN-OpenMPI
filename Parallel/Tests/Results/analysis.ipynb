{
 "cells": [
  {
   "cell_type": "code",
   "execution_count": 1,
   "metadata": {},
   "outputs": [],
   "source": [
    "# Import libraries + utility functions\n",
    "import pandas as pd, matplotlib.pyplot as plt\n",
    "\n",
    "def get_speed_up(x):\n",
    "    return df[df['V_CPU'] == 1][['N_SAMPLES', 'EXECUTION_TIME']][df[df['V_CPU'] == 1][['N_SAMPLES', 'EXECUTION_TIME']]['N_SAMPLES'] == x['N_SAMPLES']]['EXECUTION_TIME'] / x['EXECUTION_TIME']\n",
    "\n",
    "def get_samples_over_vcpus(x):\n",
    "    return x['N_SAMPLES'] / x['V_CPU']"
   ]
  },
  {
   "attachments": {},
   "cell_type": "markdown",
   "metadata": {},
   "source": [
    "# KNN Distributed - Execution details analysis\n",
    "\n",
    "The well-known **K-Nearest Neighbor (KNN) classifier** has been **distributed with OpenMPI (on C++)**. <br>\n",
    "But now a further analysis on the performances of the implemented solution is needed, considering different aspects for example what happens if the number of core is increased to the execution time (mantaining the number of samples fixed), and many other things\n",
    "\n",
    "In order to do so, **four different clusters** have been created using **Google Cloud Platform** (GCP), with the following configurations:\n",
    "- **Fat cluster**: three e2-highcpu-8 (8vCPU, 8GBRAM)\n",
    "    - **Intra-regional**: same region (Central America)\n",
    "    - **Infra-regional**: different regions (1 Central Europe, 1 East Asia, 1 West America)\n",
    "- **Light cluster**: six e2-small (2vCPU, 2GBRAM)\n",
    "    - **Intra-regional**: same region (Central America)\n",
    "    - **Infra-regional**: different regions (2 Central Europe, 2 East Asia and 2 West America)\n",
    "\n",
    "In this specific notebook it will be shown, and commented, the obtained results performing the distributed KNN on different previously designed tests, for each cluster."
   ]
  },
  {
   "attachments": {},
   "cell_type": "markdown",
   "metadata": {},
   "source": [
    "### Strong scalability\n",
    "\n",
    "Fixed-size problem on increasing resources (clusters of increasing dimension). It has been studied through the computation of:\n",
    "- **speed−up = [t(1) / t(n)]**\n",
    "\n",
    "Where *t(1)* is the amount of time needed to complete the task with one process, while *t(n)* is the amount of time to complete the same task with n processing elements.\n",
    "\n",
    "\n",
    "### Weak scalability\n",
    "\n",
    "Increasing the number of cores, while keeping the load per core constant."
   ]
  },
  {
   "attachments": {},
   "cell_type": "markdown",
   "metadata": {},
   "source": [
    "# Fat cluster"
   ]
  },
  {
   "attachments": {},
   "cell_type": "markdown",
   "metadata": {},
   "source": [
    "## Intra-regional (same region)"
   ]
  },
  {
   "cell_type": "code",
   "execution_count": 2,
   "metadata": {},
   "outputs": [
    {
     "data": {
      "text/html": [
       "<div>\n",
       "<style scoped>\n",
       "    .dataframe tbody tr th:only-of-type {\n",
       "        vertical-align: middle;\n",
       "    }\n",
       "\n",
       "    .dataframe tbody tr th {\n",
       "        vertical-align: top;\n",
       "    }\n",
       "\n",
       "    .dataframe thead th {\n",
       "        text-align: right;\n",
       "    }\n",
       "</style>\n",
       "<table border=\"1\" class=\"dataframe\">\n",
       "  <thead>\n",
       "    <tr style=\"text-align: right;\">\n",
       "      <th></th>\n",
       "      <th>N_SAMPLES</th>\n",
       "      <th>V_CPU</th>\n",
       "      <th>EXECUTION_TIME</th>\n",
       "      <th>N_SAMPLES/V_CPU</th>\n",
       "      <th>SPEED_UP</th>\n",
       "    </tr>\n",
       "  </thead>\n",
       "  <tbody>\n",
       "    <tr>\n",
       "      <th>0</th>\n",
       "      <td>1200</td>\n",
       "      <td>1</td>\n",
       "      <td>4.248240</td>\n",
       "      <td>1200.0</td>\n",
       "      <td>1.000000</td>\n",
       "    </tr>\n",
       "    <tr>\n",
       "      <th>1</th>\n",
       "      <td>12000</td>\n",
       "      <td>1</td>\n",
       "      <td>577.889000</td>\n",
       "      <td>12000.0</td>\n",
       "      <td>1.000000</td>\n",
       "    </tr>\n",
       "    <tr>\n",
       "      <th>2</th>\n",
       "      <td>24000</td>\n",
       "      <td>1</td>\n",
       "      <td>2522.450000</td>\n",
       "      <td>24000.0</td>\n",
       "      <td>1.000000</td>\n",
       "    </tr>\n",
       "    <tr>\n",
       "      <th>3</th>\n",
       "      <td>1200</td>\n",
       "      <td>4</td>\n",
       "      <td>1.108840</td>\n",
       "      <td>300.0</td>\n",
       "      <td>3.831247</td>\n",
       "    </tr>\n",
       "    <tr>\n",
       "      <th>4</th>\n",
       "      <td>12000</td>\n",
       "      <td>4</td>\n",
       "      <td>149.880000</td>\n",
       "      <td>3000.0</td>\n",
       "      <td>3.855678</td>\n",
       "    </tr>\n",
       "    <tr>\n",
       "      <th>5</th>\n",
       "      <td>24000</td>\n",
       "      <td>4</td>\n",
       "      <td>645.486000</td>\n",
       "      <td>6000.0</td>\n",
       "      <td>3.907831</td>\n",
       "    </tr>\n",
       "    <tr>\n",
       "      <th>6</th>\n",
       "      <td>1200</td>\n",
       "      <td>8</td>\n",
       "      <td>0.826471</td>\n",
       "      <td>150.0</td>\n",
       "      <td>5.140217</td>\n",
       "    </tr>\n",
       "    <tr>\n",
       "      <th>7</th>\n",
       "      <td>12000</td>\n",
       "      <td>8</td>\n",
       "      <td>104.675000</td>\n",
       "      <td>1500.0</td>\n",
       "      <td>5.520793</td>\n",
       "    </tr>\n",
       "    <tr>\n",
       "      <th>8</th>\n",
       "      <td>24000</td>\n",
       "      <td>8</td>\n",
       "      <td>461.487000</td>\n",
       "      <td>3000.0</td>\n",
       "      <td>5.465918</td>\n",
       "    </tr>\n",
       "    <tr>\n",
       "      <th>9</th>\n",
       "      <td>1200</td>\n",
       "      <td>12</td>\n",
       "      <td>0.593171</td>\n",
       "      <td>100.0</td>\n",
       "      <td>7.161915</td>\n",
       "    </tr>\n",
       "    <tr>\n",
       "      <th>10</th>\n",
       "      <td>12000</td>\n",
       "      <td>12</td>\n",
       "      <td>71.126000</td>\n",
       "      <td>1000.0</td>\n",
       "      <td>8.124863</td>\n",
       "    </tr>\n",
       "    <tr>\n",
       "      <th>11</th>\n",
       "      <td>24000</td>\n",
       "      <td>12</td>\n",
       "      <td>310.665000</td>\n",
       "      <td>2000.0</td>\n",
       "      <td>8.119518</td>\n",
       "    </tr>\n",
       "    <tr>\n",
       "      <th>12</th>\n",
       "      <td>1200</td>\n",
       "      <td>16</td>\n",
       "      <td>0.468582</td>\n",
       "      <td>75.0</td>\n",
       "      <td>9.066161</td>\n",
       "    </tr>\n",
       "    <tr>\n",
       "      <th>13</th>\n",
       "      <td>12000</td>\n",
       "      <td>16</td>\n",
       "      <td>52.621900</td>\n",
       "      <td>750.0</td>\n",
       "      <td>10.981911</td>\n",
       "    </tr>\n",
       "    <tr>\n",
       "      <th>14</th>\n",
       "      <td>24000</td>\n",
       "      <td>16</td>\n",
       "      <td>228.551000</td>\n",
       "      <td>1500.0</td>\n",
       "      <td>11.036705</td>\n",
       "    </tr>\n",
       "    <tr>\n",
       "      <th>15</th>\n",
       "      <td>1200</td>\n",
       "      <td>20</td>\n",
       "      <td>0.361850</td>\n",
       "      <td>60.0</td>\n",
       "      <td>11.740334</td>\n",
       "    </tr>\n",
       "    <tr>\n",
       "      <th>16</th>\n",
       "      <td>12000</td>\n",
       "      <td>20</td>\n",
       "      <td>43.704900</td>\n",
       "      <td>600.0</td>\n",
       "      <td>13.222522</td>\n",
       "    </tr>\n",
       "    <tr>\n",
       "      <th>17</th>\n",
       "      <td>24000</td>\n",
       "      <td>20</td>\n",
       "      <td>185.538000</td>\n",
       "      <td>1200.0</td>\n",
       "      <td>13.595328</td>\n",
       "    </tr>\n",
       "    <tr>\n",
       "      <th>18</th>\n",
       "      <td>1200</td>\n",
       "      <td>24</td>\n",
       "      <td>0.339223</td>\n",
       "      <td>50.0</td>\n",
       "      <td>12.523443</td>\n",
       "    </tr>\n",
       "    <tr>\n",
       "      <th>19</th>\n",
       "      <td>12000</td>\n",
       "      <td>24</td>\n",
       "      <td>36.691400</td>\n",
       "      <td>500.0</td>\n",
       "      <td>15.749985</td>\n",
       "    </tr>\n",
       "    <tr>\n",
       "      <th>20</th>\n",
       "      <td>24000</td>\n",
       "      <td>24</td>\n",
       "      <td>159.229000</td>\n",
       "      <td>1000.0</td>\n",
       "      <td>15.841649</td>\n",
       "    </tr>\n",
       "  </tbody>\n",
       "</table>\n",
       "</div>"
      ],
      "text/plain": [
       "    N_SAMPLES  V_CPU  EXECUTION_TIME  N_SAMPLES/V_CPU   SPEED_UP\n",
       "0        1200      1        4.248240           1200.0   1.000000\n",
       "1       12000      1      577.889000          12000.0   1.000000\n",
       "2       24000      1     2522.450000          24000.0   1.000000\n",
       "3        1200      4        1.108840            300.0   3.831247\n",
       "4       12000      4      149.880000           3000.0   3.855678\n",
       "5       24000      4      645.486000           6000.0   3.907831\n",
       "6        1200      8        0.826471            150.0   5.140217\n",
       "7       12000      8      104.675000           1500.0   5.520793\n",
       "8       24000      8      461.487000           3000.0   5.465918\n",
       "9        1200     12        0.593171            100.0   7.161915\n",
       "10      12000     12       71.126000           1000.0   8.124863\n",
       "11      24000     12      310.665000           2000.0   8.119518\n",
       "12       1200     16        0.468582             75.0   9.066161\n",
       "13      12000     16       52.621900            750.0  10.981911\n",
       "14      24000     16      228.551000           1500.0  11.036705\n",
       "15       1200     20        0.361850             60.0  11.740334\n",
       "16      12000     20       43.704900            600.0  13.222522\n",
       "17      24000     20      185.538000           1200.0  13.595328\n",
       "18       1200     24        0.339223             50.0  12.523443\n",
       "19      12000     24       36.691400            500.0  15.749985\n",
       "20      24000     24      159.229000           1000.0  15.841649"
      ]
     },
     "execution_count": 2,
     "metadata": {},
     "output_type": "execute_result"
    }
   ],
   "source": [
    "df = pd.read_csv('Fat-cluster/executions-details-intra.csv', delimiter=', ', engine='python')\n",
    "df['N_SAMPLES/V_CPU'] = df.apply(lambda x: get_samples_over_vcpus(x), axis=1)\n",
    "df['SPEED_UP'] = df.apply(lambda x: get_speed_up(x), axis=1).max(axis=1)\n",
    "\n",
    "df"
   ]
  },
  {
   "attachments": {},
   "cell_type": "markdown",
   "metadata": {},
   "source": [
    "### Strong scalability"
   ]
  },
  {
   "cell_type": "code",
   "execution_count": 3,
   "metadata": {},
   "outputs": [
    {
     "data": {
      "image/png": "[encoded data removed]",
      "text/plain": [
       "<Figure size 576x360 with 1 Axes>"
      ]
     },
     "metadata": {
      "needs_background": "light"
     },
     "output_type": "display_data"
    }
   ],
   "source": [
    "fig, ax = plt.subplots(figsize=(8, 5))\n",
    "\n",
    "for key, grp in df.groupby(['N_SAMPLES']):\n",
    "    ax = grp.plot(ax=ax, kind='line', x='V_CPU', y='SPEED_UP', legend=True, linewidth=3)\n",
    "\n",
    "plt.title('Strong scalability for Fat intra-regional cluster\\n\\n')\n",
    "plt.legend(title='Number of samples', labels=['1K samples', '12K samples', '24k samples'], loc='best')\n",
    "plt.xlabel('\\nNumber of cores')\n",
    "plt.ylabel('Speed-up\\n')\n",
    "plt.show()"
   ]
  },
  {
   "attachments": {},
   "cell_type": "markdown",
   "metadata": {},
   "source": [
    "### Weak scalability"
   ]
  },
  {
   "cell_type": "code",
   "execution_count": 4,
   "metadata": {},
   "outputs": [
    {
     "data": {
      "image/png": "[encoded data removed]",
      "text/plain": [
       "<Figure size 576x360 with 1 Axes>"
      ]
     },
     "metadata": {
      "needs_background": "light"
     },
     "output_type": "display_data"
    }
   ],
   "source": [
    "fig, ax = plt.subplots(figsize=(8, 5))\n",
    "\n",
    "for key, grp in df.groupby(['N_SAMPLES']):\n",
    "    ax = grp.plot(ax=ax, kind='line', x='N_SAMPLES/V_CPU', y='SPEED_UP', legend=True, linewidth=3)\n",
    "\n",
    "plt.title('Weak scalability for Fat intra-regional cluster\\n\\n')\n",
    "plt.legend(title='Number of samples', labels=['1K samples', '12K samples', '24k samples'], loc='best')\n",
    "plt.xlabel('\\nNumber of samples / Number of cores')\n",
    "plt.ylabel('Speed-up\\n')\n",
    "plt.show()"
   ]
  },
  {
   "attachments": {},
   "cell_type": "markdown",
   "metadata": {},
   "source": [
    "## Infra-regional (different regions)"
   ]
  },
  {
   "attachments": {},
   "cell_type": "markdown",
   "metadata": {},
   "source": [
    "Is there really a difference between the infra-regional and intra-regional fat cluster performed tests?\n",
    "Lets see.<br><br>\n",
    "In order to do so we made the difference between the execution times of the fat infra regional cluster and intra regional cluster (considering the same test configuration) and divide it by the average of the two execution time values (for infra and intra regional)."
   ]
  },
  {
   "cell_type": "code",
   "execution_count": 5,
   "metadata": {},
   "outputs": [],
   "source": [
    "infra_df = pd.read_csv('Fat-cluster/executions-details-infra.csv', delimiter=', ', engine='python')"
   ]
  },
  {
   "cell_type": "code",
   "execution_count": 6,
   "metadata": {},
   "outputs": [
    {
     "name": "stdout",
     "output_type": "stream",
     "text": [
      "Execution time differences between light and fat cluster\n",
      "\n",
      "Mean: 0.015 \n",
      "Variance: 0.00037\n"
     ]
    }
   ],
   "source": [
    "execution_time_differences_norm = [infra_df['EXECUTION_TIME'] - df['EXECUTION_TIME']] / pd.concat([infra_df['EXECUTION_TIME'], df['EXECUTION_TIME']]).mean()\n",
    "print('Execution time differences between light and fat cluster\\n\\nMean:', round(execution_time_differences_norm.mean(), 3), '\\nVariance:', round(execution_time_differences_norm.var(), 5))"
   ]
  },
  {
   "attachments": {},
   "cell_type": "markdown",
   "metadata": {},
   "source": [
    "Very small difference. The infra regional takes slightly more time with respect to the intra regional (negligible)."
   ]
  },
  {
   "attachments": {},
   "cell_type": "markdown",
   "metadata": {},
   "source": [
    "# Light cluster"
   ]
  },
  {
   "attachments": {},
   "cell_type": "markdown",
   "metadata": {},
   "source": [
    "## Intra-regional (same region)"
   ]
  },
  {
   "cell_type": "code",
   "execution_count": 7,
   "metadata": {},
   "outputs": [
    {
     "data": {
      "text/html": [
       "<div>\n",
       "<style scoped>\n",
       "    .dataframe tbody tr th:only-of-type {\n",
       "        vertical-align: middle;\n",
       "    }\n",
       "\n",
       "    .dataframe tbody tr th {\n",
       "        vertical-align: top;\n",
       "    }\n",
       "\n",
       "    .dataframe thead th {\n",
       "        text-align: right;\n",
       "    }\n",
       "</style>\n",
       "<table border=\"1\" class=\"dataframe\">\n",
       "  <thead>\n",
       "    <tr style=\"text-align: right;\">\n",
       "      <th></th>\n",
       "      <th>N_SAMPLES</th>\n",
       "      <th>V_CPU</th>\n",
       "      <th>EXECUTION_TIME</th>\n",
       "      <th>N_SAMPLES/V_CPU</th>\n",
       "      <th>SPEED_UP</th>\n",
       "    </tr>\n",
       "  </thead>\n",
       "  <tbody>\n",
       "    <tr>\n",
       "      <th>0</th>\n",
       "      <td>1200</td>\n",
       "      <td>1</td>\n",
       "      <td>4.248240</td>\n",
       "      <td>1200.0</td>\n",
       "      <td>1.000000</td>\n",
       "    </tr>\n",
       "    <tr>\n",
       "      <th>1</th>\n",
       "      <td>12000</td>\n",
       "      <td>1</td>\n",
       "      <td>577.889000</td>\n",
       "      <td>12000.0</td>\n",
       "      <td>1.000000</td>\n",
       "    </tr>\n",
       "    <tr>\n",
       "      <th>2</th>\n",
       "      <td>24000</td>\n",
       "      <td>1</td>\n",
       "      <td>2522.450000</td>\n",
       "      <td>24000.0</td>\n",
       "      <td>1.000000</td>\n",
       "    </tr>\n",
       "    <tr>\n",
       "      <th>3</th>\n",
       "      <td>1200</td>\n",
       "      <td>2</td>\n",
       "      <td>2.951690</td>\n",
       "      <td>600.0</td>\n",
       "      <td>1.439257</td>\n",
       "    </tr>\n",
       "    <tr>\n",
       "      <th>4</th>\n",
       "      <td>12000</td>\n",
       "      <td>2</td>\n",
       "      <td>391.750000</td>\n",
       "      <td>6000.0</td>\n",
       "      <td>1.475147</td>\n",
       "    </tr>\n",
       "    <tr>\n",
       "      <th>5</th>\n",
       "      <td>24000</td>\n",
       "      <td>2</td>\n",
       "      <td>1660.530000</td>\n",
       "      <td>12000.0</td>\n",
       "      <td>1.519063</td>\n",
       "    </tr>\n",
       "    <tr>\n",
       "      <th>6</th>\n",
       "      <td>1200</td>\n",
       "      <td>4</td>\n",
       "      <td>1.711870</td>\n",
       "      <td>300.0</td>\n",
       "      <td>2.481637</td>\n",
       "    </tr>\n",
       "    <tr>\n",
       "      <th>7</th>\n",
       "      <td>12000</td>\n",
       "      <td>4</td>\n",
       "      <td>215.658000</td>\n",
       "      <td>3000.0</td>\n",
       "      <td>2.679655</td>\n",
       "    </tr>\n",
       "    <tr>\n",
       "      <th>8</th>\n",
       "      <td>24000</td>\n",
       "      <td>4</td>\n",
       "      <td>922.493000</td>\n",
       "      <td>6000.0</td>\n",
       "      <td>2.734384</td>\n",
       "    </tr>\n",
       "    <tr>\n",
       "      <th>9</th>\n",
       "      <td>1200</td>\n",
       "      <td>8</td>\n",
       "      <td>0.879243</td>\n",
       "      <td>150.0</td>\n",
       "      <td>4.831702</td>\n",
       "    </tr>\n",
       "    <tr>\n",
       "      <th>10</th>\n",
       "      <td>12000</td>\n",
       "      <td>8</td>\n",
       "      <td>107.893000</td>\n",
       "      <td>1500.0</td>\n",
       "      <td>5.356131</td>\n",
       "    </tr>\n",
       "    <tr>\n",
       "      <th>11</th>\n",
       "      <td>24000</td>\n",
       "      <td>8</td>\n",
       "      <td>460.986000</td>\n",
       "      <td>3000.0</td>\n",
       "      <td>5.471858</td>\n",
       "    </tr>\n",
       "    <tr>\n",
       "      <th>12</th>\n",
       "      <td>1200</td>\n",
       "      <td>10</td>\n",
       "      <td>0.717510</td>\n",
       "      <td>120.0</td>\n",
       "      <td>5.920809</td>\n",
       "    </tr>\n",
       "    <tr>\n",
       "      <th>13</th>\n",
       "      <td>12000</td>\n",
       "      <td>10</td>\n",
       "      <td>87.075800</td>\n",
       "      <td>1200.0</td>\n",
       "      <td>6.636620</td>\n",
       "    </tr>\n",
       "    <tr>\n",
       "      <th>14</th>\n",
       "      <td>24000</td>\n",
       "      <td>10</td>\n",
       "      <td>370.525000</td>\n",
       "      <td>2400.0</td>\n",
       "      <td>6.807773</td>\n",
       "    </tr>\n",
       "    <tr>\n",
       "      <th>15</th>\n",
       "      <td>1200</td>\n",
       "      <td>12</td>\n",
       "      <td>0.628245</td>\n",
       "      <td>100.0</td>\n",
       "      <td>6.762075</td>\n",
       "    </tr>\n",
       "    <tr>\n",
       "      <th>16</th>\n",
       "      <td>12000</td>\n",
       "      <td>12</td>\n",
       "      <td>72.736600</td>\n",
       "      <td>1000.0</td>\n",
       "      <td>7.944955</td>\n",
       "    </tr>\n",
       "    <tr>\n",
       "      <th>17</th>\n",
       "      <td>24000</td>\n",
       "      <td>12</td>\n",
       "      <td>310.332000</td>\n",
       "      <td>2000.0</td>\n",
       "      <td>8.128230</td>\n",
       "    </tr>\n",
       "  </tbody>\n",
       "</table>\n",
       "</div>"
      ],
      "text/plain": [
       "    N_SAMPLES  V_CPU  EXECUTION_TIME  N_SAMPLES/V_CPU  SPEED_UP\n",
       "0        1200      1        4.248240           1200.0  1.000000\n",
       "1       12000      1      577.889000          12000.0  1.000000\n",
       "2       24000      1     2522.450000          24000.0  1.000000\n",
       "3        1200      2        2.951690            600.0  1.439257\n",
       "4       12000      2      391.750000           6000.0  1.475147\n",
       "5       24000      2     1660.530000          12000.0  1.519063\n",
       "6        1200      4        1.711870            300.0  2.481637\n",
       "7       12000      4      215.658000           3000.0  2.679655\n",
       "8       24000      4      922.493000           6000.0  2.734384\n",
       "9        1200      8        0.879243            150.0  4.831702\n",
       "10      12000      8      107.893000           1500.0  5.356131\n",
       "11      24000      8      460.986000           3000.0  5.471858\n",
       "12       1200     10        0.717510            120.0  5.920809\n",
       "13      12000     10       87.075800           1200.0  6.636620\n",
       "14      24000     10      370.525000           2400.0  6.807773\n",
       "15       1200     12        0.628245            100.0  6.762075\n",
       "16      12000     12       72.736600           1000.0  7.944955\n",
       "17      24000     12      310.332000           2000.0  8.128230"
      ]
     },
     "execution_count": 7,
     "metadata": {},
     "output_type": "execute_result"
    }
   ],
   "source": [
    "df = pd.read_csv('Light-cluster/executions-details-intra.csv', delimiter=', ', engine='python')\n",
    "df['N_SAMPLES/V_CPU'] = df.apply(lambda x: get_samples_over_vcpus(x), axis=1)\n",
    "df['SPEED_UP'] = df.apply(lambda x: get_speed_up(x), axis=1).max(axis=1)\n",
    "\n",
    "df"
   ]
  },
  {
   "attachments": {},
   "cell_type": "markdown",
   "metadata": {},
   "source": [
    "### Strong scalability"
   ]
  },
  {
   "cell_type": "code",
   "execution_count": 8,
   "metadata": {},
   "outputs": [
    {
     "data": {
      "image/png": "[encoded data removed]",
      "text/plain": [
       "<Figure size 576x360 with 1 Axes>"
      ]
     },
     "metadata": {
      "needs_background": "light"
     },
     "output_type": "display_data"
    }
   ],
   "source": [
    "fig, ax = plt.subplots(figsize=(8, 5))\n",
    "\n",
    "for key, grp in df.groupby(['N_SAMPLES']):\n",
    "    ax = grp.plot(ax=ax, kind='line', x='V_CPU', y='SPEED_UP', legend=True, linewidth=3)\n",
    "\n",
    "plt.title('Strong scalability for Light intra-regional cluster\\n\\n')\n",
    "plt.legend(title='Number of samples', labels=['1K samples', '12K samples', '24k samples'], loc='best')\n",
    "plt.xlabel('\\nNumber of cores')\n",
    "plt.ylabel('Speed-up\\n')\n",
    "plt.show()"
   ]
  },
  {
   "attachments": {},
   "cell_type": "markdown",
   "metadata": {},
   "source": [
    "### Weak scalability"
   ]
  },
  {
   "cell_type": "code",
   "execution_count": 9,
   "metadata": {},
   "outputs": [
    {
     "data": {
      "image/png": "[encoded data removed]",
      "text/plain": [
       "<Figure size 576x360 with 1 Axes>"
      ]
     },
     "metadata": {
      "needs_background": "light"
     },
     "output_type": "display_data"
    }
   ],
   "source": [
    "fig, ax = plt.subplots(figsize=(8, 5))\n",
    "\n",
    "for key, grp in df.groupby(['N_SAMPLES']):\n",
    "    ax = grp.plot(ax=ax, kind='line', x='N_SAMPLES/V_CPU', y='SPEED_UP', legend=True, linewidth=3)\n",
    "\n",
    "plt.title('Weak scalability for Light intra-regional cluster\\n\\n')\n",
    "plt.legend(title='Number of samples', labels=['1K samples', '12K samples', '24k samples'], loc='best')\n",
    "plt.xlabel('\\nNumber of samples / Number of cores')\n",
    "plt.ylabel('Speed-up\\n')\n",
    "plt.show()"
   ]
  },
  {
   "attachments": {},
   "cell_type": "markdown",
   "metadata": {},
   "source": [
    "## Infra-regional (different regions)"
   ]
  },
  {
   "attachments": {},
   "cell_type": "markdown",
   "metadata": {},
   "source": [
    "Is there really a difference between the infra-regional and intra-regional fat cluster performed tests?\n",
    "Lets see (test performed as previously)."
   ]
  },
  {
   "cell_type": "code",
   "execution_count": 10,
   "metadata": {},
   "outputs": [],
   "source": [
    "infra_df = pd.read_csv('Light-cluster/executions-details-infra.csv', delimiter=', ', engine='python')"
   ]
  },
  {
   "cell_type": "code",
   "execution_count": 11,
   "metadata": {},
   "outputs": [
    {
     "name": "stdout",
     "output_type": "stream",
     "text": [
      "Execution time differences between light and fat cluster\n",
      "\n",
      "Mean: 0.012 \n",
      "Variance: 0.00347\n"
     ]
    }
   ],
   "source": [
    "execution_time_differences_norm = [infra_df['EXECUTION_TIME'] - df['EXECUTION_TIME']] / pd.concat([infra_df['EXECUTION_TIME'], df['EXECUTION_TIME']]).mean()\n",
    "print('Execution time differences between light and fat cluster\\n\\nMean:', round(execution_time_differences_norm.mean(), 3), '\\nVariance:', round(execution_time_differences_norm.var(), 5))"
   ]
  }
 ],
 "metadata": {
  "kernelspec": {
   "display_name": "Python 3",
   "language": "python",
   "name": "python3"
  },
  "language_info": {
   "codemirror_mode": {
    "name": "ipython",
    "version": 3
   },
   "file_extension": ".py",
   "mimetype": "text/x-python",
   "name": "python",
   "nbconvert_exporter": "python",
   "pygments_lexer": "ipython3",
   "version": "3.9.2"
  },
  "orig_nbformat": 4,
  "vscode": {
   "interpreter": {
    "hash": "aee8b7b246df8f9039afb4144a1f6fd8d2ca17a180786b69acc140d282b71a49"
   }
  }
 },
 "nbformat": 4,
 "nbformat_minor": 2
}
