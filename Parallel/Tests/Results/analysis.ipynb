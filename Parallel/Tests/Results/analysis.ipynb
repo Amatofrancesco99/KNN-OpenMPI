{
 "cells": [
  {
   "cell_type": "code",
   "execution_count": 12,
   "metadata": {},
   "outputs": [],
   "source": [
    "# Import libraries + utility functions\n",
    "import pandas as pd, matplotlib.pyplot as plt\n",
    "\n",
    "def get_speed_up(x):\n",
    "    return df[df['V_CPU'] == 1][['N_SAMPLES', 'EXECUTION_TIME']][df[df['V_CPU'] == 1][['N_SAMPLES', 'EXECUTION_TIME']]['N_SAMPLES'] == x['N_SAMPLES']]['EXECUTION_TIME'] / x['EXECUTION_TIME'] \n",
    "\n",
    "def get_efficiency(x):\n",
    "    return x['SPEEDUP'] / x['V_CPU']"
   ]
  },
  {
   "attachments": {},
   "cell_type": "markdown",
   "metadata": {},
   "source": [
    "# KNN Distributed - Execution details analysis\n",
    "\n",
    "The well-known **K-Nearest Neighbor (KNN) classifier** has been **distributed with OpenMPI (on C++)**. <br>\n",
    "But now a further analysis on the performances of the implemented solution is needed, considering different aspects for example what happens if the number of core is increased to the execution time (mantaining the number of samples fixed), and many other things\n",
    "\n",
    "In order to do so, **four different clusters** have been created using **Google Cloud Platform** (GCP), with the following configurations:\n",
    "- **Fat cluster**: three e2-highcpu-8 (8vCPU, 8GBRAM)\n",
    "    - **Intra-regional**: same region (Central America)\n",
    "    - **Infra-regional**: different regions (1 Central Europe, 1 East Asia, 1 West America)\n",
    "- **Light cluster**: six e2-small (2vCPU, 2GBRAM)\n",
    "    - **Intra-regional**: same region (Central America)\n",
    "    - **Infra-regional**: different regions (2 Central Europe, 2 East Asia and 2 West America)\n",
    "\n",
    "In this specific notebook it will be shown, and commented, the obtained results performing the distributed KNN on different previously designed tests, for each cluster."
   ]
  },
  {
   "attachments": {},
   "cell_type": "markdown",
   "metadata": {},
   "source": [
    "### Strong scalability\n",
    "\n",
    "Fixed-size problem on increasing resources (clusters of increasing dimension). It has been studied through the computation of:\n",
    "- **Speedup = [t(1) / t(n)]**\n",
    "\n",
    "Where *t(1)* is the amount of time needed to complete the task with one process, while *t(n)* is the amount of time to complete the same task with n processing elements.\n",
    "\n",
    "\n",
    "### Weak scalability\n",
    "\n",
    "Increasing the number of cores, while keeping the load per core constant. It has been studied through the computation of:\n",
    "- **Efficiency ≈ Speedup / Number of cores**"
   ]
  },
  {
   "attachments": {},
   "cell_type": "markdown",
   "metadata": {},
   "source": [
    "# Fat cluster"
   ]
  },
  {
   "attachments": {},
   "cell_type": "markdown",
   "metadata": {},
   "source": [
    "## Intra-regional (same region)"
   ]
  },
  {
   "cell_type": "code",
   "execution_count": 13,
   "metadata": {},
   "outputs": [
    {
     "data": {
      "text/html": [
       "<div>\n",
       "<style scoped>\n",
       "    .dataframe tbody tr th:only-of-type {\n",
       "        vertical-align: middle;\n",
       "    }\n",
       "\n",
       "    .dataframe tbody tr th {\n",
       "        vertical-align: top;\n",
       "    }\n",
       "\n",
       "    .dataframe thead th {\n",
       "        text-align: right;\n",
       "    }\n",
       "</style>\n",
       "<table border=\"1\" class=\"dataframe\">\n",
       "  <thead>\n",
       "    <tr style=\"text-align: right;\">\n",
       "      <th></th>\n",
       "      <th>N_SAMPLES</th>\n",
       "      <th>V_CPU</th>\n",
       "      <th>EXECUTION_TIME</th>\n",
       "      <th>SPEEDUP</th>\n",
       "      <th>EFFICIENCY</th>\n",
       "    </tr>\n",
       "  </thead>\n",
       "  <tbody>\n",
       "    <tr>\n",
       "      <th>0</th>\n",
       "      <td>1200</td>\n",
       "      <td>1</td>\n",
       "      <td>4.248240</td>\n",
       "      <td>1.000000</td>\n",
       "      <td>1.000000</td>\n",
       "    </tr>\n",
       "    <tr>\n",
       "      <th>1</th>\n",
       "      <td>12000</td>\n",
       "      <td>1</td>\n",
       "      <td>577.889000</td>\n",
       "      <td>1.000000</td>\n",
       "      <td>1.000000</td>\n",
       "    </tr>\n",
       "    <tr>\n",
       "      <th>2</th>\n",
       "      <td>24000</td>\n",
       "      <td>1</td>\n",
       "      <td>2522.450000</td>\n",
       "      <td>1.000000</td>\n",
       "      <td>1.000000</td>\n",
       "    </tr>\n",
       "    <tr>\n",
       "      <th>3</th>\n",
       "      <td>1200</td>\n",
       "      <td>4</td>\n",
       "      <td>1.108840</td>\n",
       "      <td>3.831247</td>\n",
       "      <td>0.957812</td>\n",
       "    </tr>\n",
       "    <tr>\n",
       "      <th>4</th>\n",
       "      <td>12000</td>\n",
       "      <td>4</td>\n",
       "      <td>149.880000</td>\n",
       "      <td>3.855678</td>\n",
       "      <td>0.963919</td>\n",
       "    </tr>\n",
       "    <tr>\n",
       "      <th>5</th>\n",
       "      <td>24000</td>\n",
       "      <td>4</td>\n",
       "      <td>645.486000</td>\n",
       "      <td>3.907831</td>\n",
       "      <td>0.976958</td>\n",
       "    </tr>\n",
       "    <tr>\n",
       "      <th>6</th>\n",
       "      <td>1200</td>\n",
       "      <td>8</td>\n",
       "      <td>0.826471</td>\n",
       "      <td>5.140217</td>\n",
       "      <td>0.642527</td>\n",
       "    </tr>\n",
       "    <tr>\n",
       "      <th>7</th>\n",
       "      <td>12000</td>\n",
       "      <td>8</td>\n",
       "      <td>104.675000</td>\n",
       "      <td>5.520793</td>\n",
       "      <td>0.690099</td>\n",
       "    </tr>\n",
       "    <tr>\n",
       "      <th>8</th>\n",
       "      <td>24000</td>\n",
       "      <td>8</td>\n",
       "      <td>461.487000</td>\n",
       "      <td>5.465918</td>\n",
       "      <td>0.683240</td>\n",
       "    </tr>\n",
       "    <tr>\n",
       "      <th>9</th>\n",
       "      <td>1200</td>\n",
       "      <td>12</td>\n",
       "      <td>0.593171</td>\n",
       "      <td>7.161915</td>\n",
       "      <td>0.596826</td>\n",
       "    </tr>\n",
       "    <tr>\n",
       "      <th>10</th>\n",
       "      <td>12000</td>\n",
       "      <td>12</td>\n",
       "      <td>71.126000</td>\n",
       "      <td>8.124863</td>\n",
       "      <td>0.677072</td>\n",
       "    </tr>\n",
       "    <tr>\n",
       "      <th>11</th>\n",
       "      <td>24000</td>\n",
       "      <td>12</td>\n",
       "      <td>310.665000</td>\n",
       "      <td>8.119518</td>\n",
       "      <td>0.676626</td>\n",
       "    </tr>\n",
       "    <tr>\n",
       "      <th>12</th>\n",
       "      <td>1200</td>\n",
       "      <td>16</td>\n",
       "      <td>0.468582</td>\n",
       "      <td>9.066161</td>\n",
       "      <td>0.566635</td>\n",
       "    </tr>\n",
       "    <tr>\n",
       "      <th>13</th>\n",
       "      <td>12000</td>\n",
       "      <td>16</td>\n",
       "      <td>52.621900</td>\n",
       "      <td>10.981911</td>\n",
       "      <td>0.686369</td>\n",
       "    </tr>\n",
       "    <tr>\n",
       "      <th>14</th>\n",
       "      <td>24000</td>\n",
       "      <td>16</td>\n",
       "      <td>228.551000</td>\n",
       "      <td>11.036705</td>\n",
       "      <td>0.689794</td>\n",
       "    </tr>\n",
       "    <tr>\n",
       "      <th>15</th>\n",
       "      <td>1200</td>\n",
       "      <td>20</td>\n",
       "      <td>0.361850</td>\n",
       "      <td>11.740334</td>\n",
       "      <td>0.587017</td>\n",
       "    </tr>\n",
       "    <tr>\n",
       "      <th>16</th>\n",
       "      <td>12000</td>\n",
       "      <td>20</td>\n",
       "      <td>43.704900</td>\n",
       "      <td>13.222522</td>\n",
       "      <td>0.661126</td>\n",
       "    </tr>\n",
       "    <tr>\n",
       "      <th>17</th>\n",
       "      <td>24000</td>\n",
       "      <td>20</td>\n",
       "      <td>185.538000</td>\n",
       "      <td>13.595328</td>\n",
       "      <td>0.679766</td>\n",
       "    </tr>\n",
       "    <tr>\n",
       "      <th>18</th>\n",
       "      <td>1200</td>\n",
       "      <td>24</td>\n",
       "      <td>0.339223</td>\n",
       "      <td>12.523443</td>\n",
       "      <td>0.521810</td>\n",
       "    </tr>\n",
       "    <tr>\n",
       "      <th>19</th>\n",
       "      <td>12000</td>\n",
       "      <td>24</td>\n",
       "      <td>36.691400</td>\n",
       "      <td>15.749985</td>\n",
       "      <td>0.656249</td>\n",
       "    </tr>\n",
       "    <tr>\n",
       "      <th>20</th>\n",
       "      <td>24000</td>\n",
       "      <td>24</td>\n",
       "      <td>159.229000</td>\n",
       "      <td>15.841649</td>\n",
       "      <td>0.660069</td>\n",
       "    </tr>\n",
       "  </tbody>\n",
       "</table>\n",
       "</div>"
      ],
      "text/plain": [
       "    N_SAMPLES  V_CPU  EXECUTION_TIME    SPEEDUP  EFFICIENCY\n",
       "0        1200      1        4.248240   1.000000    1.000000\n",
       "1       12000      1      577.889000   1.000000    1.000000\n",
       "2       24000      1     2522.450000   1.000000    1.000000\n",
       "3        1200      4        1.108840   3.831247    0.957812\n",
       "4       12000      4      149.880000   3.855678    0.963919\n",
       "5       24000      4      645.486000   3.907831    0.976958\n",
       "6        1200      8        0.826471   5.140217    0.642527\n",
       "7       12000      8      104.675000   5.520793    0.690099\n",
       "8       24000      8      461.487000   5.465918    0.683240\n",
       "9        1200     12        0.593171   7.161915    0.596826\n",
       "10      12000     12       71.126000   8.124863    0.677072\n",
       "11      24000     12      310.665000   8.119518    0.676626\n",
       "12       1200     16        0.468582   9.066161    0.566635\n",
       "13      12000     16       52.621900  10.981911    0.686369\n",
       "14      24000     16      228.551000  11.036705    0.689794\n",
       "15       1200     20        0.361850  11.740334    0.587017\n",
       "16      12000     20       43.704900  13.222522    0.661126\n",
       "17      24000     20      185.538000  13.595328    0.679766\n",
       "18       1200     24        0.339223  12.523443    0.521810\n",
       "19      12000     24       36.691400  15.749985    0.656249\n",
       "20      24000     24      159.229000  15.841649    0.660069"
      ]
     },
     "execution_count": 13,
     "metadata": {},
     "output_type": "execute_result"
    }
   ],
   "source": [
    "df = pd.read_csv('Fat-cluster/executions-details-intra.csv', delimiter=', ', engine='python')\n",
    "df['SPEEDUP'] = df.apply(lambda x: get_speed_up(x), axis=1).max(axis=1)\n",
    "df['EFFICIENCY'] = df.apply(lambda x: get_efficiency(x), axis=1)\n",
    "\n",
    "df"
   ]
  },
  {
   "attachments": {},
   "cell_type": "markdown",
   "metadata": {},
   "source": [
    "### Strong scalability"
   ]
  },
  {
   "cell_type": "code",
   "execution_count": 14,
   "metadata": {},
   "outputs": [
    {
     "data": {
      "image/png": "[encoded data removed]",
      "text/plain": [
       "<Figure size 576x360 with 1 Axes>"
      ]
     },
     "metadata": {
      "needs_background": "light"
     },
     "output_type": "display_data"
    }
   ],
   "source": [
    "fig, ax = plt.subplots(figsize=(8, 5))\n",
    "\n",
    "for key, grp in df.groupby(['N_SAMPLES']):\n",
    "    ax = grp.plot(ax=ax, kind='line', x='V_CPU', y='SPEEDUP', legend=True, linewidth=3)\n",
    "\n",
    "plt.title('Strong scalability for Fat intra-regional cluster\\n\\n')\n",
    "plt.legend(title='Number of samples', labels=['1K samples', '12K samples', '24k samples'], loc='best')\n",
    "plt.xlabel('\\nNumber of cores')\n",
    "plt.ylabel('Speedup\\n')\n",
    "plt.show()"
   ]
  },
  {
   "attachments": {},
   "cell_type": "markdown",
   "metadata": {},
   "source": [
    "### Weak scalability"
   ]
  },
  {
   "cell_type": "code",
   "execution_count": 15,
   "metadata": {},
   "outputs": [
    {
     "data": {
      "image/png": "[encoded data removed]",
      "text/plain": [
       "<Figure size 576x360 with 1 Axes>"
      ]
     },
     "metadata": {
      "needs_background": "light"
     },
     "output_type": "display_data"
    }
   ],
   "source": [
    "fig, ax = plt.subplots(figsize=(8, 5))\n",
    "\n",
    "for key, grp in df.groupby(['N_SAMPLES']):\n",
    "    ax = grp.plot(ax=ax, kind='line', x='V_CPU', y='EFFICIENCY', legend=True, linewidth=3)\n",
    "\n",
    "plt.title('Weak scalability for Fat intra-regional cluster\\n\\n')\n",
    "plt.legend(title='Number of samples', labels=['1K samples', '12K samples', '24k samples'], loc='best')\n",
    "plt.xlabel('\\nNumber of cores')\n",
    "plt.ylabel('Efficiency\\n')\n",
    "plt.show()"
   ]
  },
  {
   "attachments": {},
   "cell_type": "markdown",
   "metadata": {},
   "source": [
    "## Infra-regional (different regions)"
   ]
  },
  {
   "attachments": {},
   "cell_type": "markdown",
   "metadata": {},
   "source": [
    "Is there really a difference between the infra-regional and intra-regional fat cluster performed tests?\n",
    "Lets see.<br><br>\n",
    "In order to do so we made the difference between the execution times of the fat infra regional cluster and intra regional cluster (considering the same test configuration) and divide it by the average of the two execution time values (for infra and intra regional)."
   ]
  },
  {
   "cell_type": "code",
   "execution_count": 16,
   "metadata": {},
   "outputs": [],
   "source": [
    "infra_df = pd.read_csv('Fat-cluster/executions-details-infra.csv', delimiter=', ', engine='python')"
   ]
  },
  {
   "cell_type": "code",
   "execution_count": 17,
   "metadata": {},
   "outputs": [
    {
     "name": "stdout",
     "output_type": "stream",
     "text": [
      "Execution time differences between light and fat cluster\n",
      "\n",
      "Mean: 0.015 \n",
      "Variance: 0.00037\n"
     ]
    }
   ],
   "source": [
    "execution_time_differences_norm = [infra_df['EXECUTION_TIME'] - df['EXECUTION_TIME']] / pd.concat([infra_df['EXECUTION_TIME'], df['EXECUTION_TIME']]).mean()\n",
    "print('Execution time differences between light and fat cluster\\n\\nMean:', round(execution_time_differences_norm.mean(), 3), '\\nVariance:', round(execution_time_differences_norm.var(), 5))"
   ]
  },
  {
   "attachments": {},
   "cell_type": "markdown",
   "metadata": {},
   "source": [
    "Very small difference. The infra regional takes slightly more time with respect to the intra regional (negligible)."
   ]
  },
  {
   "attachments": {},
   "cell_type": "markdown",
   "metadata": {},
   "source": [
    "# Light cluster"
   ]
  },
  {
   "attachments": {},
   "cell_type": "markdown",
   "metadata": {},
   "source": [
    "## Intra-regional (same region)"
   ]
  },
  {
   "cell_type": "code",
   "execution_count": 18,
   "metadata": {},
   "outputs": [
    {
     "data": {
      "text/html": [
       "<div>\n",
       "<style scoped>\n",
       "    .dataframe tbody tr th:only-of-type {\n",
       "        vertical-align: middle;\n",
       "    }\n",
       "\n",
       "    .dataframe tbody tr th {\n",
       "        vertical-align: top;\n",
       "    }\n",
       "\n",
       "    .dataframe thead th {\n",
       "        text-align: right;\n",
       "    }\n",
       "</style>\n",
       "<table border=\"1\" class=\"dataframe\">\n",
       "  <thead>\n",
       "    <tr style=\"text-align: right;\">\n",
       "      <th></th>\n",
       "      <th>N_SAMPLES</th>\n",
       "      <th>V_CPU</th>\n",
       "      <th>EXECUTION_TIME</th>\n",
       "      <th>SPEEDUP</th>\n",
       "      <th>EFFICIENCY</th>\n",
       "    </tr>\n",
       "  </thead>\n",
       "  <tbody>\n",
       "    <tr>\n",
       "      <th>0</th>\n",
       "      <td>1200</td>\n",
       "      <td>1</td>\n",
       "      <td>4.248240</td>\n",
       "      <td>1.000000</td>\n",
       "      <td>1.000000</td>\n",
       "    </tr>\n",
       "    <tr>\n",
       "      <th>1</th>\n",
       "      <td>12000</td>\n",
       "      <td>1</td>\n",
       "      <td>577.889000</td>\n",
       "      <td>1.000000</td>\n",
       "      <td>1.000000</td>\n",
       "    </tr>\n",
       "    <tr>\n",
       "      <th>2</th>\n",
       "      <td>24000</td>\n",
       "      <td>1</td>\n",
       "      <td>2522.450000</td>\n",
       "      <td>1.000000</td>\n",
       "      <td>1.000000</td>\n",
       "    </tr>\n",
       "    <tr>\n",
       "      <th>3</th>\n",
       "      <td>1200</td>\n",
       "      <td>2</td>\n",
       "      <td>2.951690</td>\n",
       "      <td>1.439257</td>\n",
       "      <td>0.719628</td>\n",
       "    </tr>\n",
       "    <tr>\n",
       "      <th>4</th>\n",
       "      <td>12000</td>\n",
       "      <td>2</td>\n",
       "      <td>391.750000</td>\n",
       "      <td>1.475147</td>\n",
       "      <td>0.737574</td>\n",
       "    </tr>\n",
       "    <tr>\n",
       "      <th>5</th>\n",
       "      <td>24000</td>\n",
       "      <td>2</td>\n",
       "      <td>1660.530000</td>\n",
       "      <td>1.519063</td>\n",
       "      <td>0.759532</td>\n",
       "    </tr>\n",
       "    <tr>\n",
       "      <th>6</th>\n",
       "      <td>1200</td>\n",
       "      <td>4</td>\n",
       "      <td>1.711870</td>\n",
       "      <td>2.481637</td>\n",
       "      <td>0.620409</td>\n",
       "    </tr>\n",
       "    <tr>\n",
       "      <th>7</th>\n",
       "      <td>12000</td>\n",
       "      <td>4</td>\n",
       "      <td>215.658000</td>\n",
       "      <td>2.679655</td>\n",
       "      <td>0.669914</td>\n",
       "    </tr>\n",
       "    <tr>\n",
       "      <th>8</th>\n",
       "      <td>24000</td>\n",
       "      <td>4</td>\n",
       "      <td>922.493000</td>\n",
       "      <td>2.734384</td>\n",
       "      <td>0.683596</td>\n",
       "    </tr>\n",
       "    <tr>\n",
       "      <th>9</th>\n",
       "      <td>1200</td>\n",
       "      <td>8</td>\n",
       "      <td>0.879243</td>\n",
       "      <td>4.831702</td>\n",
       "      <td>0.603963</td>\n",
       "    </tr>\n",
       "    <tr>\n",
       "      <th>10</th>\n",
       "      <td>12000</td>\n",
       "      <td>8</td>\n",
       "      <td>107.893000</td>\n",
       "      <td>5.356131</td>\n",
       "      <td>0.669516</td>\n",
       "    </tr>\n",
       "    <tr>\n",
       "      <th>11</th>\n",
       "      <td>24000</td>\n",
       "      <td>8</td>\n",
       "      <td>460.986000</td>\n",
       "      <td>5.471858</td>\n",
       "      <td>0.683982</td>\n",
       "    </tr>\n",
       "    <tr>\n",
       "      <th>12</th>\n",
       "      <td>1200</td>\n",
       "      <td>10</td>\n",
       "      <td>0.717510</td>\n",
       "      <td>5.920809</td>\n",
       "      <td>0.592081</td>\n",
       "    </tr>\n",
       "    <tr>\n",
       "      <th>13</th>\n",
       "      <td>12000</td>\n",
       "      <td>10</td>\n",
       "      <td>87.075800</td>\n",
       "      <td>6.636620</td>\n",
       "      <td>0.663662</td>\n",
       "    </tr>\n",
       "    <tr>\n",
       "      <th>14</th>\n",
       "      <td>24000</td>\n",
       "      <td>10</td>\n",
       "      <td>370.525000</td>\n",
       "      <td>6.807773</td>\n",
       "      <td>0.680777</td>\n",
       "    </tr>\n",
       "    <tr>\n",
       "      <th>15</th>\n",
       "      <td>1200</td>\n",
       "      <td>12</td>\n",
       "      <td>0.628245</td>\n",
       "      <td>6.762075</td>\n",
       "      <td>0.563506</td>\n",
       "    </tr>\n",
       "    <tr>\n",
       "      <th>16</th>\n",
       "      <td>12000</td>\n",
       "      <td>12</td>\n",
       "      <td>72.736600</td>\n",
       "      <td>7.944955</td>\n",
       "      <td>0.662080</td>\n",
       "    </tr>\n",
       "    <tr>\n",
       "      <th>17</th>\n",
       "      <td>24000</td>\n",
       "      <td>12</td>\n",
       "      <td>310.332000</td>\n",
       "      <td>8.128230</td>\n",
       "      <td>0.677353</td>\n",
       "    </tr>\n",
       "  </tbody>\n",
       "</table>\n",
       "</div>"
      ],
      "text/plain": [
       "    N_SAMPLES  V_CPU  EXECUTION_TIME   SPEEDUP  EFFICIENCY\n",
       "0        1200      1        4.248240  1.000000    1.000000\n",
       "1       12000      1      577.889000  1.000000    1.000000\n",
       "2       24000      1     2522.450000  1.000000    1.000000\n",
       "3        1200      2        2.951690  1.439257    0.719628\n",
       "4       12000      2      391.750000  1.475147    0.737574\n",
       "5       24000      2     1660.530000  1.519063    0.759532\n",
       "6        1200      4        1.711870  2.481637    0.620409\n",
       "7       12000      4      215.658000  2.679655    0.669914\n",
       "8       24000      4      922.493000  2.734384    0.683596\n",
       "9        1200      8        0.879243  4.831702    0.603963\n",
       "10      12000      8      107.893000  5.356131    0.669516\n",
       "11      24000      8      460.986000  5.471858    0.683982\n",
       "12       1200     10        0.717510  5.920809    0.592081\n",
       "13      12000     10       87.075800  6.636620    0.663662\n",
       "14      24000     10      370.525000  6.807773    0.680777\n",
       "15       1200     12        0.628245  6.762075    0.563506\n",
       "16      12000     12       72.736600  7.944955    0.662080\n",
       "17      24000     12      310.332000  8.128230    0.677353"
      ]
     },
     "execution_count": 18,
     "metadata": {},
     "output_type": "execute_result"
    }
   ],
   "source": [
    "df = pd.read_csv('Light-cluster/executions-details-intra.csv', delimiter=', ', engine='python')\n",
    "df['SPEEDUP'] = df.apply(lambda x: get_speed_up(x), axis=1).max(axis=1)\n",
    "df['EFFICIENCY'] = df.apply(lambda x: get_efficiency(x), axis=1)\n",
    "\n",
    "df"
   ]
  },
  {
   "attachments": {},
   "cell_type": "markdown",
   "metadata": {},
   "source": [
    "### Strong scalability"
   ]
  },
  {
   "cell_type": "code",
   "execution_count": 19,
   "metadata": {},
   "outputs": [
    {
     "data": {
      "image/png": "[encoded data removed]",
      "text/plain": [
       "<Figure size 576x360 with 1 Axes>"
      ]
     },
     "metadata": {
      "needs_background": "light"
     },
     "output_type": "display_data"
    }
   ],
   "source": [
    "fig, ax = plt.subplots(figsize=(8, 5))\n",
    "\n",
    "for key, grp in df.groupby(['N_SAMPLES']):\n",
    "    ax = grp.plot(ax=ax, kind='line', x='V_CPU', y='SPEEDUP', legend=True, linewidth=3)\n",
    "\n",
    "plt.title('Strong scalability for Light intra-regional cluster\\n\\n')\n",
    "plt.legend(title='Number of samples', labels=['1K samples', '12K samples', '24k samples'], loc='best')\n",
    "plt.xlabel('\\nNumber of cores')\n",
    "plt.ylabel('Speedup\\n')\n",
    "plt.show()"
   ]
  },
  {
   "attachments": {},
   "cell_type": "markdown",
   "metadata": {},
   "source": [
    "### Weak scalability"
   ]
  },
  {
   "cell_type": "code",
   "execution_count": 20,
   "metadata": {},
   "outputs": [
    {
     "data": {
      "image/png": "[encoded data removed]",
      "text/plain": [
       "<Figure size 576x360 with 1 Axes>"
      ]
     },
     "metadata": {
      "needs_background": "light"
     },
     "output_type": "display_data"
    }
   ],
   "source": [
    "fig, ax = plt.subplots(figsize=(8, 5))\n",
    "\n",
    "for key, grp in df.groupby(['N_SAMPLES']):\n",
    "    ax = grp.plot(ax=ax, kind='line', x='V_CPU', y='EFFICIENCY', legend=True, linewidth=3)\n",
    "\n",
    "plt.title('Weak scalability for Light intra-regional cluster\\n\\n')\n",
    "plt.legend(title='Number of samples', labels=['1K samples', '12K samples', '24k samples'], loc='best')\n",
    "plt.xlabel('\\nNumber of cores')\n",
    "plt.ylabel('Efficiency\\n')\n",
    "plt.show()"
   ]
  },
  {
   "attachments": {},
   "cell_type": "markdown",
   "metadata": {},
   "source": [
    "## Infra-regional (different regions)"
   ]
  },
  {
   "attachments": {},
   "cell_type": "markdown",
   "metadata": {},
   "source": [
    "Is there really a difference between the infra-regional and intra-regional fat cluster performed tests?\n",
    "Lets see (test performed as previously)."
   ]
  },
  {
   "cell_type": "code",
   "execution_count": 10,
   "metadata": {},
   "outputs": [],
   "source": [
    "infra_df = pd.read_csv('Light-cluster/executions-details-infra.csv', delimiter=', ', engine='python')"
   ]
  },
  {
   "cell_type": "code",
   "execution_count": 11,
   "metadata": {},
   "outputs": [
    {
     "name": "stdout",
     "output_type": "stream",
     "text": [
      "Execution time differences between light and fat cluster\n",
      "\n",
      "Mean: 0.012 \n",
      "Variance: 0.00347\n"
     ]
    }
   ],
   "source": [
    "execution_time_differences_norm = [infra_df['EXECUTION_TIME'] - df['EXECUTION_TIME']] / pd.concat([infra_df['EXECUTION_TIME'], df['EXECUTION_TIME']]).mean()\n",
    "print('Execution time differences between light and fat cluster\\n\\nMean:', round(execution_time_differences_norm.mean(), 3), '\\nVariance:', round(execution_time_differences_norm.var(), 5))"
   ]
  }
 ],
 "metadata": {
  "kernelspec": {
   "display_name": "Python 3",
   "language": "python",
   "name": "python3"
  },
  "language_info": {
   "codemirror_mode": {
    "name": "ipython",
    "version": 3
   },
   "file_extension": ".py",
   "mimetype": "text/x-python",
   "name": "python",
   "nbconvert_exporter": "python",
   "pygments_lexer": "ipython3",
   "version": "3.9.2"
  },
  "orig_nbformat": 4,
  "vscode": {
   "interpreter": {
    "hash": "aee8b7b246df8f9039afb4144a1f6fd8d2ca17a180786b69acc140d282b71a49"
   }
  }
 },
 "nbformat": 4,
 "nbformat_minor": 2
}
